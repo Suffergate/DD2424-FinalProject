{
 "cells": [
  {
   "cell_type": "code",
   "execution_count": null,
   "id": "8428a306",
   "metadata": {},
   "outputs": [],
   "source": [
    "import pandas as pd\n",
    "import os\n",
    "import re"
   ]
  },
  {
   "cell_type": "code",
   "execution_count": null,
   "id": "ce79e846",
   "metadata": {},
   "outputs": [],
   "source": [
    "import pandas as pd\n",
    "import re\n",
    "import random\n",
    "\n",
    "def bob(split_ratio=(0.8, 0.1, 0.1), seed=42):\n",
    "    df = pd.read_csv('Datasets/bob_lyrics/BobD.csv')\n",
    "\n",
    "    cleaned_lyrics = []\n",
    "\n",
    "    for i, row in df.iterrows():\n",
    "        lyrics = row['lyrics']\n",
    "        if pd.isna(lyrics):\n",
    "            continue\n",
    "\n",
    "        lyrics = lyrics.replace('\\u2028', '').replace('\\u2029', '')\n",
    "        lyrics = lyrics.replace('\\r\\n', '\\n').replace('\\r', '\\n')\n",
    "        lyrics = re.sub(r'(?<!\\n)\\n\\n(?!\\n)', '\\n', lyrics)\n",
    "        lyrics = re.sub(r'\\n{3,}', '\\n\\n', lyrics)\n",
    "        lines = [line.strip() for line in lyrics.split('\\n')]\n",
    "        lyrics = '\\n'.join(lines)\n",
    "\n",
    "        cleaned_lyrics.append(lyrics.strip())\n",
    "\n",
    "    # Blanda texterna för att undvika bias\n",
    "    random.seed(seed)\n",
    "    random.shuffle(cleaned_lyrics)\n",
    "\n",
    "    total = len(cleaned_lyrics)\n",
    "    train_end = int(split_ratio[0] * total)\n",
    "    val_end = train_end + int(split_ratio[1] * total)\n",
    "\n",
    "    train_set = cleaned_lyrics[:train_end]\n",
    "    val_set = cleaned_lyrics[train_end:val_end]\n",
    "    test_set = cleaned_lyrics[val_end:]\n",
    "\n",
    "    # Funktion för att spara dataset\n",
    "    def save_dataset(data, filename):\n",
    "        with open(filename, 'w', encoding='utf-8') as f:\n",
    "            f.write('\\n\\n\\n'.join(data))\n",
    "\n",
    "    save_dataset(train_set, 'Datasets/bob_dylan_train.txt')\n",
    "    save_dataset(val_set, 'Datasets/bob_dylan_val.txt')\n",
    "    save_dataset(test_set, 'Datasets/bob_dylan_test.txt')\n",
    "\n",
    "    print(f\"Lyrics cleaned and split into train/val/test:\")\n",
    "    print(f\"  Train: {len(train_set)} songs\")\n",
    "    print(f\"  Val:   {len(val_set)} songs\")\n",
    "    print(f\"  Test:  {len(test_set)} songs\")\n",
    "\n",
    "# Kör funktionen\n",
    "bob()"
   ]
  },
  {
   "cell_type": "code",
   "execution_count": null,
   "id": "844abf5e",
   "metadata": {},
   "outputs": [],
   "source": [
    "bob()"
   ]
  },
  {
   "cell_type": "code",
   "execution_count": null,
   "id": "b5975c7a",
   "metadata": {},
   "outputs": [],
   "source": [
    "def eminem():\n",
    "    #Mapp med alla Eminem-texter\n",
    "    folder_path = 'Datasets/eminem_lyrics'\n",
    "\n",
    "    all_lyrics = []\n",
    "\n",
    "    # Gå igenom varje .txt-fil i mappen\n",
    "    for filename in sorted(os.listdir(folder_path)):\n",
    "        if filename.endswith('.txt'):\n",
    "            file_path = os.path.join(folder_path, filename)\n",
    "            with open(file_path, 'r', encoding='utf-8') as f:\n",
    "                text = f.read()\n",
    "                # Ta bort specialtecken\n",
    "                clean_text = text.replace('\\u2028', '').replace('\\u2029', '').strip()\n",
    "                # Ta bort hakparenteser och innehållet i dem\n",
    "                clean_text = re.sub(r'\\[.*?\\]', '', clean_text)\n",
    "                all_lyrics.append(clean_text)\n",
    "\n",
    "    # Två radbrytningar mellan låtar\n",
    "    final_text = '\\n\\n'.join(all_lyrics)\n",
    "\n",
    "    # Spara till fil\n",
    "    with open('Datasets/eminem_clean.txt', 'w', encoding='utf-8') as f:\n",
    "        f.write(final_text)\n",
    "\n",
    "    print(\"Eminem lyrics cleaned and saved to 'Datasets/eminem_clean.txt'.\")"
   ]
  },
  {
   "cell_type": "code",
   "execution_count": null,
   "id": "f4346bd2",
   "metadata": {},
   "outputs": [],
   "source": [
    "eminem()"
   ]
  }
 ],
 "metadata": {
  "kernelspec": {
   "display_name": "Python 3",
   "language": "python",
   "name": "python3"
  },
  "language_info": {
   "codemirror_mode": {
    "name": "ipython",
    "version": 3
   },
   "file_extension": ".py",
   "mimetype": "text/x-python",
   "name": "python",
   "nbconvert_exporter": "python",
   "pygments_lexer": "ipython3",
   "version": "3.13.2"
  }
 },
 "nbformat": 4,
 "nbformat_minor": 5
}
